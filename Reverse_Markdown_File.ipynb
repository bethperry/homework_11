{
 "cells": [
  {
   "cell_type": "code",
   "execution_count": 57,
   "metadata": {},
   "outputs": [],
   "source": [
    "import io"
   ]
  },
  {
   "cell_type": "code",
   "execution_count": 58,
   "metadata": {},
   "outputs": [],
   "source": [
    "# Read in the text of the current README markdown file\n",
    "f = io.open('Documents/CoderGirl/README.md', mode=\"r\", encoding=\"utf-8\")\n",
    "readme = f.read()"
   ]
  },
  {
   "cell_type": "code",
   "execution_count": 59,
   "metadata": {},
   "outputs": [],
   "source": [
    "# Split the file text into a list using '# Week' as the key\n",
    "weeks = readme.split(\"# Week\")"
   ]
  },
  {
   "cell_type": "code",
   "execution_count": 60,
   "metadata": {},
   "outputs": [
    {
     "name": "stdout",
     "output_type": "stream",
     "text": [
      "0 # Data-Science-Assignments\n",
      "Repository for the Data\n",
      "1  1 - Introductions and Python\n",
      "## In Class Assignme\n",
      "2  2 - Python: Math, Strings, If-Else, Expressions\n",
      "\n",
      "\n",
      "3  3 - Python: Loops, Functions, Classes\n",
      "\n",
      "## In Clas\n",
      "4  4 - Python: Numpy Arrays\n",
      "\n",
      "## In Class Assignment \n",
      "5  5 - Python: Pandas Dataframes\n",
      "\n",
      "## In Class Assign\n",
      "6  5 - Python: Plotting (matplotlib and Seaborn)\n",
      "## \n",
      "7  6 - Python: Data Visualization\n",
      "\n",
      "## In Class Assig\n",
      "8  7 - SQL I\n",
      "\n",
      "## In Class Assignment due Friday, Oct\n",
      "9  8 - SQL II\n",
      "\n",
      "## In Class Assignment due Friday, Oc\n",
      "10  9 - Career Week\n",
      "\n",
      "## In Class Assignment due Frida\n",
      "11  10 - Math for Data Science: Statistics I\n",
      "        \n",
      "12  11 - Math for Data Science: Statistics II, Linear\n",
      "13  12 - Machine Learning: Concepts, Linear Regressio\n",
      "14  13 - Machine Learning: Logistic Regression\n",
      "## Hom\n",
      "15  14 - Machine Learning: Neural Networks I\n",
      "## Homew\n",
      "16  15 - Machine Learning: Neural Networks II\n",
      "## Home\n",
      "17  16 - Machine Learning: Decision Trees\n",
      "## Homework\n",
      "18  17 - Data Science Ethics\n",
      "## Homework due Wednesda\n",
      "19  18 - Machine Learning: Unsupervised Learning\n",
      "## H\n",
      "20  19 - Machine Learning: NLP\n",
      "## Homework due Wednes\n",
      "21  20 - Machine Learning: Recommendation Engines\n",
      "## \n",
      "22  21 - Git/Version Control\n",
      "## Homework due Wednesda\n",
      "23  22\n",
      "## Mini-Project: Homework due Wednesday, Feb 3\n",
      "24  23\n",
      "## Mini-Project: Homework due Wednesday, Feb 1\n"
     ]
    }
   ],
   "source": [
    "# Check out the new list\n",
    "for ix,tag in enumerate(weeks):\n",
    "    print(ix, tag[0:50])"
   ]
  },
  {
   "cell_type": "code",
   "execution_count": 61,
   "metadata": {},
   "outputs": [
    {
     "data": {
      "text/plain": [
       "'# Data-Science-Assignments\\nRepository for the Data Science learning track to host assignments.\\n\\nFind powerpoints and helpful resources [here.](https://1drv.ms/u/s!AslM4j-peps4jSoXGzGpBKU5ShMY?e=RhOuft)\\n<br>Find a great quick python reference here: https://www.w3schools.com/python/\\n\\n### Homework tips\\n*Think ‘process’ not ‘product’. The goal is to learn. The goal is not to hand in a perfect assignment.*\\n\\n*Skim your homework assignment BEFORE you do the readings. It will help focus your attention!*\\n\\n*SQR3: Scan, Question, Read, Recall, Review!!!!*\\n\\n'"
      ]
     },
     "execution_count": 61,
     "metadata": {},
     "output_type": "execute_result"
    }
   ],
   "source": [
    "# Reverse all the list elements\n",
    "weeks.reverse()\n",
    "\n",
    "# The original markdown has an introduction before the first week.\n",
    "# Since we reversed the list, this is now the last element.\n",
    "# Move it back to the top (insert at index 0, then pop it off the end)\n",
    "weeks.insert(0, weeks[len(weeks) - 1])\n",
    "weeks.pop()"
   ]
  },
  {
   "cell_type": "code",
   "execution_count": 65,
   "metadata": {},
   "outputs": [
    {
     "name": "stdout",
     "output_type": "stream",
     "text": [
      "0 # Data-Science-Assignments\n",
      "Repository for the Data\n",
      "1 \n",
      "# Week 23\n",
      "## Mini-Project: Homework due Wednesday\n",
      "2 \n",
      "# Week 22\n",
      "## Mini-Project: Homework due Wednesday\n",
      "3 \n",
      "# Week 21 - Git/Version Control\n",
      "## Homework due W\n",
      "4 \n",
      "# Week 20 - Machine Learning: Recommendation Engi\n",
      "5 \n",
      "# Week 19 - Machine Learning: NLP\n",
      "## Homework due\n",
      "6 \n",
      "# Week 18 - Machine Learning: Unsupervised Learni\n",
      "7 \n",
      "# Week 17 - Data Science Ethics\n",
      "## Homework due W\n",
      "8 \n",
      "# Week 16 - Machine Learning: Decision Trees\n",
      "## H\n",
      "9 \n",
      "# Week 15 - Machine Learning: Neural Networks II\n",
      "\n",
      "10 \n",
      "# Week 14 - Machine Learning: Neural Networks I\n",
      "#\n",
      "11 \n",
      "# Week 13 - Machine Learning: Logistic Regression\n",
      "12 \n",
      "# Week 12 - Machine Learning: Concepts, Linear Re\n",
      "13 \n",
      "# Week 11 - Math for Data Science: Statistics II,\n",
      "14 \n",
      "# Week 10 - Math for Data Science: Statistics I\n",
      " \n",
      "15 \n",
      "# Week 9 - Career Week\n",
      "\n",
      "## In Class Assignment du\n",
      "16 \n",
      "# Week 8 - SQL II\n",
      "\n",
      "## In Class Assignment due Fri\n",
      "17 \n",
      "# Week 7 - SQL I\n",
      "\n",
      "## In Class Assignment due Frid\n",
      "18 \n",
      "# Week 6 - Python: Data Visualization\n",
      "\n",
      "## In Clas\n",
      "19 \n",
      "# Week 5 - Python: Plotting (matplotlib and Seabo\n",
      "20 \n",
      "# Week 5 - Python: Pandas Dataframes\n",
      "\n",
      "## In Class\n",
      "21 \n",
      "# Week 4 - Python: Numpy Arrays\n",
      "\n",
      "## In Class Assi\n",
      "22 \n",
      "# Week 3 - Python: Loops, Functions, Classes\n",
      "\n",
      "## \n",
      "23 \n",
      "# Week 2 - Python: Math, Strings, If-Else, Expres\n",
      "24 \n",
      "# Week 1 - Introductions and Python\n",
      "## In Class A\n"
     ]
    }
   ],
   "source": [
    "# Build the string for the new README.md file (ordered newest to oldest)\n",
    "newmd = ''\n",
    "for ix,tag in enumerate(weeks):\n",
    "    if ix != 0:\n",
    "        tag = '\\n# Week' + tag # Adding back the newline character \\n and the # Week heading (except on the intro)\n",
    "    newmd = newmd + tag\n",
    "    print(ix, tag[0:50])"
   ]
  },
  {
   "cell_type": "code",
   "execution_count": 66,
   "metadata": {},
   "outputs": [
    {
     "data": {
      "text/plain": [
       "'# Data-Science-Assignments\\nRepository for the Data Science learning track to host assignments.\\n\\nFind powerpoints and helpful resources [here.](https://1drv.ms/u/s!AslM4j-peps4jSoXGzGpBKU5ShMY?e=RhOuft)\\n<br>Find a great quick python reference here: https://www.w3schools.com/python/\\n\\n### Homework tips\\n*Think ‘process’ not ‘product’. The goal is to learn. The goal is not to hand in a perfect assignment.*\\n\\n*Skim your homework assignment BEFORE you do the readings. It will help focus your attention!*\\n\\n*SQR3: Scan, Question, Read, Recall, Review!!!!*\\n\\n\\n# Week 23\\n## Mini-Project: Homework due Wednesday, Feb 10, 2020 @ 5:30pm\\n* Post the link to your GitHub repo for Mini-Project part II: Modeling\\n    - Your modeling notebook should include each of the following:\\n        - (Feature engineering, if not captured in the EDA notebook. Sometimes it is easier or makes more sense to do feature engineering in the same notebook as your model.)\\n        - Splitting data into train/test sets\\n        - Build (at least one) model\\n        - Predict test set using model(s)\\n        - A quantiative metric of model(s) performance\\n\\n# Week 22\\n## Mini-Project: Homework due Wednesday, Feb 3, 2020 @ 5:30pm\\n* Perform Explortatory Data Analysis (EDA) on [Heart Disease Kaggle Project](https://www.kaggle.com/ronitf/heart-disease-uci)\\n* Post the link to your GitHub repo for Mini-Project part I: EDA\\n    - Your notebook should address each of the following:\\n        - Data issues: missing values, duplicate values, outliers\\n        - Data cleaning solutions: imputation/estimation, dropping entries -- justify your choices!\\n        - Describe the realtionship of features to your target (should include at least a few plots). \\n        - Feature engineering (transformation, normalization, createing new combinations of features, etc), if you think this is necessary. Describe your rationale.\\n\\n\\n# Week 21 - Git/Version Control\\n## Homework due Wednesday, Jan 27, 2020 @ 5:30pm\\n\\n## In Class Assignment due Friday, Jan 29, 2020 @ 8pm\\n\\n\\n# Week 20 - Machine Learning: Recommendation Engines\\n## Homework due Wednesday, Jan 20, 2020 @ 5:30pm\\n\\n## In Class Assignment due Friday, Jan 22, 2020 @ 8pm\\n\\n\\n# Week 19 - Machine Learning: NLP\\n## Homework due Wednesday, Jan 13, 2020 @ 5:30pm\\n\\n## In Class Assignment due Friday, Jan 15, 2020 @ 8pm\\n\\n\\n\\n# Week 18 - Machine Learning: Unsupervised Learning\\n## Homework due Wednesday, Jan 6, 2020 @ 5:30pm\\n        \\n## In Class Assignment due Friday, Jan 8, 2020 @ 8pm\\n\\n        \\n\\n# Week 17 - Data Science Ethics\\n## Homework due Wednesday, Dec 16, 2020 @ 5:30pm\\n\\n# Dec 23 & 30 - No Class - See you in 2021!\\n        \\n\\n# Week 16 - Machine Learning: Decision Trees\\n## Homework due Wednesday, December 9, 2020 @ 5:30pm\\n\\n## In Class Assignment due Wednesday, December 11, 2020 @ 8pm\\n\\n\\n\\n# Week 15 - Machine Learning: Neural Networks II\\n## Homework due Wednesday, Dec 2, 2020 @ 5:30pm\\n \\n## In Class Assignment due Friday, Dec 4, 2020 @ 8pm\\n\\n\\n## Deep Learning Specialization\\n* For those of you interested in learning more in-depth material about Neural Networks, we highly recommend you to complete the [Deep Learning Specialization](https://www.coursera.org/specializations/deep-learning). This is a 5 course series from Coursera which deals with implementing a set of state-of-the-art Neural Networks. This is well beyond the scope of CoderGirl- Data Science, but we wanted to keep this here as a reference. \\n\\n\\n# Week 14 - Machine Learning: Neural Networks I\\n## Homework due Wednesday, Nov 18, 2020 @ 5:30pm\\n\\n## In Class Assignment due Friday, Nov 20, 2020 @ 8pm\\n\\n# Nov 25 - No Class - Happy Thanksgiving!\\n\\n\\n# Week 13 - Machine Learning: Logistic Regression\\n## Homework due Wednesday, Nov 11, 2020 @ 5:30pm\\n\\n## In Class Assignment due Friday, Nov 13, 2020 @ 8pm\\n\\n\\n\\n# Week 12 - Machine Learning: Concepts, Linear Regression\\n## Homework due Wednesday, Nov 4, 2020 @ 5:30pm\\n        \\n## In Class Assignment due Friday, Nov 6, 2020 @ 8pm\\n\\n\\n\\n# Week 11 - Math for Data Science: Statistics II, Linear Algebra\\n\\n## In Class Assignment due Friday, October 30 2020 @ 8pm\\n - No in-class this week. Get an early start on the ML content, there\\'s a lot to do this week!\\n\\n## Homework due Wednesday, November 4 2020 @ 5:30pm\\n* [Coursera Machine Learning]\\n    - Finish all Readings, Videos, and Quizzes for the following sections in [Week 1: Introduction](https://www.coursera.org/learn/machine-learning/home/week/1):\\n        - [Introduction](https://www.coursera.org/learn/machine-learning/home/week/1)\\n        - [Linear Regression with One Variable](https://www.coursera.org/learn/machine-learning/home/week/1)\\n    - Finish all Readings, Videos, and Quizzes in [Week 2](https://www.coursera.org/learn/machine-learning/home/week/2) __NOTE: do not do the Octave/MATLAB component of the Coursera course__:\\n        - [Linear Regression with Multiple Variables](https://www.coursera.org/learn/machine-learning/home/week/2)\\n        - [Computing Parameters Analytically](https://www.coursera.org/learn/machine-learning/home/week/2)\\n        \\n* [Google Machine Learning Crash Course](https://developers.google.com/machine-learning/crash-course/)\\n    - Enroll in Google\\'s Machine Learning Crash course. The material is available antyime. [Google ML Crash Course](https://developers.google.com/machine-learning/crash-course/)\\n    - Finish all Videos, Readings, Key Terminology, and Check Your Understanding for the following sections:\\n        - [Introduction to ML](https://developers.google.com/machine-learning/crash-course/ml-intro)\\n        - [Framing](https://developers.google.com/machine-learning/crash-course/framing/video-lecture)\\n        - [Descending into ML](https://developers.google.com/machine-learning/crash-course/descending-into-ml/video-lecture)\\n        - [Reducing Loss](https://developers.google.com/machine-learning/crash-course/reducing-loss/video-lecture)\\n\\n\\n\\n# Week 10 - Math for Data Science: Statistics I\\n        \\n## In Class Assignment DUE DATE CHANGED - Wednesday, Oct 28, 2020 @5:30pm\\n* Notebooks\\n    - Complete the 4 notebooks found in the \"week 10/intro2stats/notebooks\" folder\\n        - 01_Warm-up\\n        - 02_Basic Metrics\\n        - 03_Distributions\\n        - 04_Directory with datasets\\n\\t\\n## Homework due Wednesday, October 28, 2020 @5:30pm\\n* __Keep working on the in-class notebooks,__ they are not due until Wednesday the 28th with the rest of your homework.\\n\\n* __Complete the Linear Algebra Review__ module of Standford University\\'s Machine Learning Coursera by Andrew Ng\\n    * Sign up for Coursera, if you don\\'t have an account\\n    * Go to landing page of course and click Enroll, then select the No Certificate/Free option\\n        * https://www.coursera.org/learn/machine-learning\\n    * The Linear Algebra Review is the last module in Week 1. It might look locked from the initial page, but it\\'s not. Go to the Week 1 page below and scroll down to get to the Linear Algebra Review section. \\n        * https://www.coursera.org/learn/machine-learning/home/week/1\\n        * Use this [direct link to first video](https://www.coursera.org/learn/machine-learning/home/week/1) if you have issues\\n    * Watch the videos and take the quizzes in the videos\\n    * The readings have some errors in my browser where the new line between consecutive rows in vectors and matrices has been converted to a space (e.g. a 2x3 matrix is rendered incorrectly as [a b cd e f]). This is hard to look at, so build intuition and notes through the videos, and then use the programming applets to confirm your intuition. \\n\\n* __Review the concept of a derivative__ from Calculus\\n    * Watch [The paradox of the derivative | Essence of calculus, chapter 2](https://youtu.be/9vKqVkMQHKk) from 3Blue1Brown\\n    * If you hated that, try [this shorter video](https://www.khanacademy.org/math/ap-calculus-ab/ab-differentiation-1-new/ab-2-1/v/derivative-as-a-concept) from Khan Academy\\n\\n\\n\\n# Week 9 - Career Week\\n\\n## In Class Assignment due Friday, Oct 15, 2020 @ 8pm\\n- None. Keep working on your mini projects if you didn\\'t have the chance to finish!\\n\\n## Homework due Wednesday, Oct 21, 2020 @ 5:30pm\\n\\n- Complete [DataCamp Course: Introduction to Statistics in Python](https://www.datacamp.com/courses/introduction-to-statistics-in-python)\\n    - Advertised as 4 hours. It is usually less in my experience.\\n    - Honor system in Canvas as usual. \\n    - Bring your questions to class! \\n\\n### For Fun (Optional)\\n\\n- Take [DataCamp Assessment: Statistic Fundamentals with Python](https://assessment.datacamp.com/statistics-fundamentals-with-python)\\n    - 15 question timed assessment that is in no way indicative of real-life DS work, but it might be fun to test your knowledge / frantic googling skills to try to find the meaning of function parameters. Might cover libraries we haven\\'t covered yet, so don\\'t be discouraged. \\n    - For those new to statistics with Python, I suggest completing the above course first. Otherwise, feel free to dive in to get ideas on future statistics courses in DataCamp.  \\n\\n### For Those Who Need Re-Introduction to Probability (Optional)\\n- See if you have trouble with [this quiz](https://www.khanacademy.org/math/statistics-probability/probability-library/modal/e/probability_1).\\n    - If so, then  watch  the videos for [Khan Academy: basic probability section](https://www.khanacademy.org/math/statistics-probability/probability-library#basic-theoretical-probability). \\n    - Continue with videos/articles/quizzes from Khan Academy\\'s [experimental probability](https://www.khanacademy.org/math/statistics-probability/probability-library#experimental-probability-lib) and [randomness, probability, and simulation](https://www.khanacademy.org/math/statistics-probability/probability-library#randomness-probability-and-simulation)\\n\\n- For a longer introduction instead (~5 hours), try [DataCamp: Foundations of Probability in Python](https://learn.datacamp.com/courses/foundations-of-probability-in-python). Prioritize your time to complete the statistics foundation course, however. \\n\\n### Optional Reading\\n- The [Khan Academy: Statistics & Probability](https://www.khanacademy.org/math/statistics-probability) course is a great resource to get another video on any concepts that are challenging. Seek out what you need more help on, and your TAs are here to help. \\n    \\n    \\n\\n# Week 8 - SQL II\\n\\n## In Class Assignment due Friday, Oct 09, 2020 @ 8pm\\n1. None. Start early on your project!\\n\\n## Homework due Wednesday, OCT 14, 2020 @ 5:30pm\\n### Readings/Videos/DataCamp\\n\\n1. Click through the `bonus_python.ipynb` and skim each reading. \\n\\n### Notebook\\n\\n1. Complete your own notebook analyzing your approved dataset. \\n2. If you do not have an approved dataset you must use data from [NYC Taxi data.](https://www1.nyc.gov/site/tlc/about/\\n3. Your notebook should include the following: \\n- Make no reference to this being an assignment. \\n- Ask 4 questions and answer them using pandas dataframes. \\n- Ask 4 questions and answer them using the plotting library of your choice. \\n- Have at least 4 graphs. 3 of them need to be different (bar, scatter, hist, violin etc...)\\n- Write up an executive summary of your findings using `markdown`. \\n- Bonus/Optional: Use `markdown` throughout your notebook to tell the story of your data.\\n- All graphs should have Titles, labels and matching color schemes where applicable.\\n- Code should be neat and well documented. \\n- Final notebook should be \\'Employer Ready\\'. \\n\\n\\n### Optional Reading:\\n\\n* None\\n\\n\\n\\n# Week 7 - SQL I\\n\\n## In Class Assignment due Friday, Oct 02, 2020 @ 8pm\\n1. Play around with VSCode. Rewatch in class video and follow along with Matt W. \\n\\n## Homework due Wednesday, Oct 7, 2020 @ 5:30pm\\n### Readings/Videos/DataCamp\\n1. Start the [SQL Tutorial for Data Analysis](https://mode.com/sql-tutorial/introduction-to-sql/)\\n2. Do the `Intermediate SQL` section. \\n3. This is part of the homework. See below. \\n4. **NOTE**: This SQL Tutorial is geared towards **reading** from databases and not writing to databases. There are many operations you will not be performing such as `creating`, `updating` and ,`deleting`.\\n### Text File (Instead of a Notebook)\\n1. Create a file called `intermediate.sql`. \\n2. As you do the readings you will come across `Practice Problem`s. \\n3. For **every** practice problem do the following. \\n\\t- Copy and paste the problem into your `intermediate.sql` file. \\n\\t- Use Mode SQL to solve the problem. \\n\\t- Paste your solution into `intermediate.sql`.\\n\\t- Write an explanation of what is happening. \\n4. Commit the `intermediate.sql` file to your own repo. \\n5. Submit a link to your repo. \\n6. OPTIONAL (But highly recomended.)\\n    - Under the Advanced SQL Section\\n    - SQL Data Types\\n    - SQL Date Format\\n    - Writing Subqueries in SQL\\n    - SQL Window Functions\\n7. OPTIONAL:\\n    - Finish `Advanced SQL` section.\\n### Optional Videos: \\n* [Learn PostgeSQL](https://www.youtube.com/watch?v=qw--VYLpxG4)\\n### Optional Reading:\\n* None.\\n\\n\\n\\n# Week 6 - Python: Data Visualization\\n\\n## In Class Assignment due Friday, Sept 25, 2020 @ 8pm\\n1. [Sign Up for Mode SQL.](https://mode.com/sql-tutorial/introduction-to-sql/) \\n2. [What is a Database?](https://www.edureka.co/blog/what-is-a-database/)\\n3. [Overview](https://www.tutorialspoint.com/sql/sql-overview.htm) (Only First page)\\n4. [RDBMS Concepts](https://www.tutorialspoint.com/sql/sql-rdbms-concepts.htm) (Only First Page)\\n\\n## Homework due Wednesday, Sept 30, 2020 @ 5:30pm\\n### Readings/Videos/DataCamp\\n1. Start the [SQL Tutorial for Data Analysis](https://mode.com/sql-tutorial/introduction-to-sql/)\\n2. Do the `Basic SQL` section. \\n3. This is part of the homework. See below. \\n4. **NOTE**: This SQL Tutorial is geared towards **reading** from databases and not writing to databases. There are many operations you will not be performing such as `creating`, `updating` and ,`deleting`.\\n### Text File (Instead of a Notebook)\\n1. Create a file called `basic.sql`. \\n2. As you do the readings you will come across `Practice Problem`s. \\n3. For **every** practice problem do the following. \\n\\t- Copy and paste the problem into your `basic.sql` file. \\n\\t- Use Mode SQL to solve the problem. \\n\\t- Paste your solution into `basic.sql`.\\n\\t- Write an explanation of what is happening. \\n4. Commit the `basic.sql` file to your own repo. \\n5. Submit a link to your repo. \\n\\n### Optional Videos: \\n* [Learn PostgeSQL](https://www.youtube.com/watch?v=qw--VYLpxG4)\\n### Optional Reading:\\n* If you are craving more continue onto next weeks assignment and work on the `Intermediate SQL` section. \\n\\n\\n\\n# Week 5 - Python: Plotting (matplotlib and Seaborn)\\n## Homework due Wednesday, Sept 23, 2020 @ 5:30pm\\n### Readings/Videos/DataCamp\\n\\n1. In DataCamp, complete all of *\"Introduction to Data Visualization with Matplotlib 1: Introduction to Matplotlib\"* and *\"Introduction to Data Visualization with Matplotlib 3: Quantitative comparisons and statistical visualizations\"*\\n   - Introduction to Data Visualization with Matplotlib 1: Introduction to Matplotlib: Start [here](https://campus.datacamp.com/courses/introduction-to-data-visualization-with-matplotlib/introduction-to-matplotlib?ex=1)\\n     - Do \"Introduction to data visualization with Matplotlib\" through \"Small multiples with shared y axis\"\\n   - Introduction to Data Visualization with Matplotlib 3: Quantitative comparisons and statistical visualizations: Start [here](https://campus.datacamp.com/courses/introduction-to-data-visualization-with-matplotlib/quantitative-comparisons-and-statistical-visualizations?ex=1)\\n     - Do \"Quantitative comparisons: bar-charts\" through \"Encoding time by color\"\\n   - Note: we are assigning sections 1 and 3 of the Introduction to Data Visualization with Matplotlib module. Feel free to complete modules 2 and 4 if you are interested and have the time, but they are optional.\\n   \\n\\n2. In DataCamp, complete all of *\"Introduction to Data Visualization with Seaborn 1: Introduction to Seaborn\"* and *\"Introduction to Data Visualization with Seaborn 4: Customizing Seaborn Plots\"*\\n   - Introduction to Data Visualization with Seaborn 1: Introduction to Seaborn: Start [here](https://campus.datacamp.com/courses/introduction-to-data-visualization-with-seaborn/introduction-to-seaborn?ex=1)\\n     - Do \"Introduction to Seaborn\" through \"Hue and count plots\"\\n   - Introduction to Data Visualization with Seaborn 4: Customizing Seaborn Plots: Start [here](https://campus.datacamp.com/courses/introduction-to-data-visualization-with-seaborn/customizing-seaborn-plots-4?ex=1)\\n     - Do \"Changing plot style and color\" through \"Well done! What\\'s next?\"\\n   - Note: we are assigning sections 1 and 4 of the Introduction to Data Visualization with Seaborn module. Feel free to complete modules 2 and 3 if you are interested and have the time, but they are optional.\\n\\n\\n### Notebook\\n\\n3. Complete the `WeatherPy_homework_starter.ipynb`. You can find it in the week 5 folder in the course materials folder at the top of the github page. Submit a link to your repo.\\n- This homework is likely your first opportunity to build your portfolio. \\n    - Start early, make it neat. \\n    - This is a real project you can showcase!\\n\\n ### Optional Videos: \\n\\n* [CoreyMS Youtube - matplotlib Playlist](https://www.youtube.com/playlist?list=PL-osiE80TeTvipOqomVEeZ1HRrcEvtZB_)\\n\\n\\n### Optional Reading:\\n\\n* Modules 2 and 4 of the Introduction to Data Visualization with Matplotlib and modules 2 and 3 of Introduction to Data Visualization with Seaborn\\n* [Matplotlib Cheatsheet](https://datacamp-community-prod.s3.amazonaws.com/28b8210c-60cc-4f13-b0b4-5b4f2ad4790b)\\n* [Seaborn Cheatsheet](https://s3.amazonaws.com/assets.datacamp.com/blog_assets/Python_Seaborn_Cheat_Sheet.pdf)\\n\\n\\n\\n# Week 5 - Python: Pandas Dataframes\\n\\n## In Class Assignment due Friday, Sept 018, 2020 @ 8pm\\n1. Finish the in class `weather_api.ipynb\\' and submit a link to your repo/notebook. (You can use the same repo for your Homework Assignment.)\\n2. Read [Anatomy of a URL](https://doepud.co.uk/blog/anatomy-of-a-url)\\n3. Read [REST API Tutorial](https://restfulapi.net/http-methods/)\\n4. Start homework early! \\n\\n\\n# Week 4 - Python: Numpy Arrays\\n\\n## In Class Assignment due Friday, Sept 011, 2020 @ 8pm\\n1. There are no \\'in class assignment\\' deliverables for this week. \\n2. Start homework early! \\n\\n## Homework due Wednesday, Sept 16, 2020 @ 5:30pm\\n### Readings/Videos/DataCamp\\n\\n1. [Pandas DataFrames](https://www.datacamp.com/community/tutorials/pandas-tutorial-dataframe-python)\\n2. [Time Series tutorial with Pandas](https://www.datacamp.com/community/tutorials/time-series-analysis-tutorial)\\n3. Read, Click Through and Digest: `pandas_part_1.ipynb\\'`\\n4. Read, Click Through and Digest: `pandas_part_2.ipynb\\'`\\n5. Upload LATEST version of any missing homework in Canvas.\\n\\n### Notebook\\n\\n1. Complete the `HeroesOfPymoli_starter.ipynb`. You can find it in the week 4 folder in the course materials folder at the top of the github page. Submit a link to your repo.\\n- See `hw_instructuions.md` for full homework instructions. NOTE: Best viewed in github.\\n- `HeroesOfPymoli_output_examples.ipynb` is provided as a reference. \\n    - View in Jupyter or Github. (Github sometimes mis-formats documents.)\\n- NOTE: Your numerical results should be very close to the examples. \\n    - Your formatting may be very different than provided examples. Focus on getting the data and less on the formatting.\\n\\n\\n ### Optional Videos: \\n\\n* [CoreyMS Youtube - Pandas Playlist](https://www.youtube.com/playlist?list=PL-osiE80TeTsWmV9i9c58mdDCSskIFdDS)\\n\\n* [Formatting](https://pyformat.info/)\\n\\n* [Pandas Tutorials](https://chrisalbon.com/)\\n\\n* [Pandas Documentation](http://pandas.pydata.org/)\\n\\n* [Visual Guide to Joins](https://blog.codinghorror.com/a-visual-explanation-of-sql-joins/)\\n\\n* [Pandas Merging](https://pandas.pydata.org/pandas-docs/stable/merging.html)\\n\\n* [Pandas Cheatsheet](https://www.dataquest.io/blog/pandas-cheat-sheet/)\\n\\n### Optional Reading:\\n\\nPandas is challenging and a core Data Scientist Tool. If you\\'ve completed the homework explore other Pandas features! \\n\\n\\n# Week 3 - Python: Loops, Functions, Classes\\n\\n## In Class Assignment due Friday, Sept 4, 2020 @ 8pm\\n1. Finish any installations. \\n2. Clone the class repo. (If you have not done so in class)\\n3. OPTIONAL: [DataCamp PIP Tutorial](https://www.datacamp.com/community/tutorials/pip-python-package-manager)\\n4. Readings (The Unix Shell)\\n    - Read these but spend most of your time this week on **Numpy**. \\n    - [Introducing the Shell](http://swcarpentry.github.io/shell-novice/01-intro/index.html)\\n    - [Navigating Files and Directories](http://swcarpentry.github.io/shell-novice/02-filedir/index.html)\\n    - [Working with Files and Directories](http://swcarpentry.github.io/shell-novice/03-create/index.html)\\n    - [Pipes and Filters](http://swcarpentry.github.io/shell-novice/04-pipefilter/index.html)\\n5. There are no \\'in class assignment\\' deliverables for this week. \\n\\n## Homework due Wednesday, Sept 9, 2020 @ 5:30pm\\n\\n1. DataCamp: NumPy\\n    - Go to DataCamp\\'s Intro to Python Course, Chapter 4: NumPy (chapter starts [here](https://campus.datacamp.com/courses/intro-to-python-for-data-science/chapter-4-numpy?ex=1)\\n    - Complete the whole chapter: “NumPy” through “Blend it all together”\\n\\n2. Cheat Sheets (Optional, just for your reference)\\n    - [NumPy](https://datacamp-community-prod.s3.amazonaws.com/e9f83f72-a81b-42c7-af44-4e35b48b20b7)\\n\\n\\n### Notebook\\n\\n3. Complete the `week_03_homework.ipynb` [here.](https://github.com/LaunchCoderGirlSTL/Data-Science-Assignments/blob/master/course_material/week_03/week_03_homework.ipynb) You can also find the notebook and the csv file you\\'ll need in the week 4 folder in the course materials folder at the top of the page.\\n\\n\\n ### Optional Videos: \\n\\n[DataCamp-Numpy](https://www.youtube.com/watch?v=QUT1VHiLmmI)\\n\\n\\n[Numpy-Part1](https://www.youtube.com/watch?v=VtCZFlTbOek&t=1305s)\\n\\n[Numpy-Part2](https://www.youtube.com/watch?v=d6O_bXgnjb4)\\n\\n\\n### Optional Reading:\\n\\nNone. \\n\\n\\n# Week 2 - Python: Math, Strings, If-Else, Expressions\\n\\n## In Class Assignment due Friday, Aug 28, 2020 @ 8pm\\n1. Finish any installation corrections. \\n2. Clone the class repo. (If you have not done so in class)\\n3. OPTIONAL(But preferred): Create your own week 02 repository. (If you have not done so in class)\\n4. Skim the \\'In a nutshell\\' links for \\'Learning how to Learn\\' and \\'Deep Work\\' in the `Survival Guide`.\\n    - Find something in those readings that interests you and explore further. \\n    - These topics can have profound effects outside the classroom as well. \\n\\n5. There are no \\'in class assignment\\' deliverables for this week. \\n\\n## Homework due Wednesday, Sept 2, 2020 @ 5:30pm\\n### Readings/Videos/DataCamp\\n1. Loops\\n    - In DataCamp, go to Intermediate Python, Chapter 4: Loops (Click [here](https://campus.datacamp.com/courses/intermediate-python/loops?ex=1) to start)\\n    - Complete \"While Loop\" through \"Loop over list of lists\"\\n \\n2. Functions\\n    - Read this [introduction to functions.](http://introtopython.org/introducing_functions.html) (Don\\'t worry about the exercises)\\n    - OPTIONAL: Read more on functions [here.](https://365datascience.com/python-functions/)\\n\\n3. Classes\\n    - Working with classes can be challenging. Focus your attention on:\\n        1. Creating classes.\\n        2. Adding attributes. \\n        3. Creating class methods. (methods that operate on the entire class)\\n        4. Creating instance methods. (methods that act only on the instance)\\n        5. Creating objects from classes. (`foo = MyClass(attr1, attr2`)\\n    - Focus less (but be aware) of:\\n        1. Inheritance\\n\\n    - Read this [introduction to classes.](http://introtopython.org/classes.html) (Don\\'t worry about the exercises or any notes about Python 2.7.)\\n    - Read [this](https://www.learnpython.org/en/Classes_and_Objects) and complete the exercise at the end.\\n    - Read this [Python\\'s Methods Demystified](https://realpython.com/instance-class-and-static-methods-demystified/)\\n### Notebook\\n4. Complete the `week_02_homework.ipynb` found [here](https://github.com/LaunchCoderGirlSTL/Data-Science-Assignments/blob/master/course_material/week_02/week_02_homework.ipynb). You can also find it in the week 2 folder in the course materials folder at the top of the github page. Submit a link to your repo or submit the `.ipynb` file. \\n\\n\\n ### Optional Videos: \\n\\nhttps://www.youtube.com/watch?v=YYXdXT2l-Gg&list=PL-osiE80TeTskrapNbzXhwoFUiLCjGgY7 \\n\\n- Only videos 7 & 8\\n\\nhttps://www.youtube.com/watch?v=ZDa-Z5JzLYM&list=PL-osiE80TeTsqhIuOqKhwlXsIBIdSeYtc\\n\\n- Only videos 1,2 & 3\\n\\n### Optional Reading: Only do this if you have completed your homework. And have deleted it and done it again. \\n\\nClasses are such a challenging subject there are no Optional Readings for this week. If you made it this far please practice Classes some more! \\n\\n\\n\\n# Week 1 - Introductions and Python\\n## In Class Assignment due Friday, Aug 21, 2020 @ 8pm\\n1. Finish any installs not completed in class. \\n2. Skim the `Survival Guide` presentation. We will discuss this in more detail throughout first 8 wks.\\n3. Create a complete schedule for yourself and include EVERYTHING you can (Work, commute, dinner, any obligations and study time). Highlight times you will be studying. \\n    - Head over to this [spreadsheet](https://1drv.ms/x/s!AslM4j-peps4jTba0I4xcgllBZH7?e=LqiTV8) and see the example schedule on the first tab. \\n    - Create a tab with `your initials`.\\n    - Copy the `template` sheet into your tab. \\n    - Fill out an accurate schedule for yourself. \\n        - This does not need to be updated as your schedule changes. \\n        \\n## Homework due Wednesday, Aug 26, 2020 @ 5:30pm\\n### Readings\\n1. [Hello World](https://www.learnpython.org/en/Hello,_World!)\\n2. [Data Structures](https://www.datacamp.com/community/tutorials/data-structures-python) \\n3. [String Manipulation](https://www.thelearningpoint.net/computer-science/learning-python-programming-and-data-structures/learning-python-programming-and-data-structures--tutorial-12--string-manipulation)\\n4. Go through the Provided `python_click_through.ipynb`.  \\n\\n    - Open another notebook and copy each cell and play with it in the new notebook. \\n\\n    - Ask yourself a question and experiment. \\n\\n        - What if I change this variable? \\n\\n            - What’s the outcome? \\n\\n        - What if I intentionally write code I think will fail? \\n\\n            - Does it fail? \\n\\n        - What if I combine the concept in the cell above with this cell?  \\n        \\n### Notebook\\n - Complete the week 1 homework notebook found [here.](https://github.com/LaunchCoderGirlSTL/Data-Science-Assignments/blob/master/course_material/week_01/hw1_problem_set.ipynb) You can also find it in the week 1 folder inside the course materials folder here on the github page. \\n\\n\\n### Optional Videos: \\n\\nhttps://www.youtube.com/watch?v=YYXdXT2l-Gg&list=PL-osiE80TeTskrapNbzXhwoFUiLCjGgY7 \\n\\n- Suggest only Videos 2-7, 9 and 10 \\n\\n\\n### Optional Reading: Only do this if you have completed your homework. And have deleted it and done it again.  \\n\\nhttp://swcarpentry.github.io/shell-novice/01-intro/index.html \\n\\nhttp://swcarpentry.github.io/shell-novice/02-filedir/index.html \\n\\n'"
      ]
     },
     "execution_count": 66,
     "metadata": {},
     "output_type": "execute_result"
    }
   ],
   "source": [
    "# Preview the new file text\n",
    "newmd"
   ]
  },
  {
   "cell_type": "code",
   "execution_count": 56,
   "metadata": {},
   "outputs": [],
   "source": [
    "# Write out the updated file\n",
    "newfile = open('newmd.md', 'w')\n",
    "newfile.writelines(newmd)\n",
    "newfile.close()"
   ]
  }
 ],
 "metadata": {
  "kernelspec": {
   "display_name": "Python 3",
   "language": "python",
   "name": "python3"
  },
  "language_info": {
   "codemirror_mode": {
    "name": "ipython",
    "version": 3
   },
   "file_extension": ".py",
   "mimetype": "text/x-python",
   "name": "python",
   "nbconvert_exporter": "python",
   "pygments_lexer": "ipython3",
   "version": "3.7.6"
  }
 },
 "nbformat": 4,
 "nbformat_minor": 4
}
